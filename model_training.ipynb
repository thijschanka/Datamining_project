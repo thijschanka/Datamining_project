{
 "cells": [
  {
   "cell_type": "code",
   "execution_count": 2,
   "metadata": {},
   "outputs": [
    {
     "name": "stdout",
     "output_type": "stream",
     "text": [
      "368 800\n",
      "50 100\n",
      "49 101\n"
     ]
    }
   ],
   "source": [
    "import pandas as pd\n",
    "import numpy as np\n",
    "import matplotlib.pyplot as plt\n",
    "from sklearn import model_selection as sms \n",
    "\n",
    "\n",
    "def read_data(name):\n",
    "    df = pd.read_csv(name)\n",
    "    X = df.loc[:, df.columns != 'target']\n",
    "    y = df.loc[:, 'target'].values\n",
    "    X_train, X_tv, y_train, y_tv = sms.train_test_split(X, y, train_size=0.8, random_state = 42, shuffle=True)\n",
    "    X_test, X_val, y_test, y_val = sms.train_test_split(X_tv, y_tv, train_size=0.5, random_state = 42, shuffle=True)\n",
    "    return df, (X_train, y_train), (X_test, y_test), (X_val, y_val)\n",
    "\n",
    "df, train, test, val = read_data('data/st_filt_data.csv')\n",
    "print(sum(train[1]), len(train[1]))\n",
    "print(sum(test[1]), len(test[1]))\n",
    "print(sum(val[1]), len(val[1]))"
   ]
  },
  {
   "cell_type": "markdown",
   "metadata": {},
   "source": [
    "* random forrest\n",
    "* svm"
   ]
  },
  {
   "cell_type": "code",
   "execution_count": 12,
   "metadata": {},
   "outputs": [
    {
     "data": {
      "text/plain": [
       "RandomForestClassifier(min_samples_split=16, n_jobs=-1, oob_score=True,\n",
       "                       random_state=42)"
      ]
     },
     "execution_count": 12,
     "metadata": {},
     "output_type": "execute_result"
    }
   ],
   "source": [
    "from sklearn import ensemble as ske\n",
    "rf = ske.RandomForestClassifier(n_estimators=100, min_samples_split=16, random_state=42, bootstrap=True,\n",
    "                                 n_jobs=-1, oob_score=True, ccp_alpha=)\n",
    "rf.fit(train[0], train[1])"
   ]
  },
  {
   "cell_type": "code",
   "execution_count": 19,
   "metadata": {},
   "outputs": [
    {
     "name": "stdout",
     "output_type": "stream",
     "text": [
      "[[407  25]\n",
      " [ 24 344]]\n",
      "[[44  6]\n",
      " [ 2 48]]\n",
      "0.92\n",
      "0.93875\n"
     ]
    }
   ],
   "source": [
    "from sklearn import metrics as skm\n",
    "\n",
    "train_pred = rf.predict(train[0])\n",
    "test_pred = rf.predict(test[0])\n",
    "\n",
    "print(skm.confusion_matrix(train[1], train_pred))\n",
    "print(skm.confusion_matrix(test[1], test_pred))\n",
    "\n",
    "print(rf.score(test[0], test[1]))\n",
    "print(rf.score(train[0], train[1]))"
   ]
  },
  {
   "cell_type": "code",
   "execution_count": 23,
   "metadata": {},
   "outputs": [
    {
     "ename": "IndexError",
     "evalue": "",
     "output_type": "error",
     "traceback": [
      "\u001b[1;31m---------------------------------------------------------------------------\u001b[0m",
      "\u001b[1;31mIndexError\u001b[0m                                Traceback (most recent call last)",
      "\u001b[1;32m<ipython-input-23-38f6c64ff1a9>\u001b[0m in \u001b[0;36m<module>\u001b[1;34m\u001b[0m\n\u001b[0;32m      5\u001b[0m     \u001b[0mtree_accuracy\u001b[0m\u001b[1;33m.\u001b[0m\u001b[0mappend\u001b[0m\u001b[1;33m(\u001b[0m\u001b[0mskm\u001b[0m\u001b[1;33m.\u001b[0m\u001b[0maccuracy_score\u001b[0m\u001b[1;33m(\u001b[0m\u001b[0mtrain\u001b[0m\u001b[1;33m[\u001b[0m\u001b[1;36m1\u001b[0m\u001b[1;33m]\u001b[0m\u001b[1;33m,\u001b[0m \u001b[0mrf\u001b[0m\u001b[1;33m.\u001b[0m\u001b[0mestimators_\u001b[0m\u001b[1;33m[\u001b[0m\u001b[0mtree_nr\u001b[0m\u001b[1;33m]\u001b[0m\u001b[1;33m.\u001b[0m\u001b[0mpredict\u001b[0m\u001b[1;33m(\u001b[0m\u001b[0mtrain\u001b[0m\u001b[1;33m[\u001b[0m\u001b[1;36m0\u001b[0m\u001b[1;33m]\u001b[0m\u001b[1;33m)\u001b[0m\u001b[1;33m)\u001b[0m\u001b[1;33m)\u001b[0m\u001b[1;33m\u001b[0m\u001b[1;33m\u001b[0m\u001b[0m\n\u001b[0;32m      6\u001b[0m \u001b[0mbest_tree\u001b[0m \u001b[1;33m=\u001b[0m \u001b[0mtree_accuracy\u001b[0m\u001b[1;33m.\u001b[0m\u001b[0mindex\u001b[0m\u001b[1;33m(\u001b[0m\u001b[0mmax\u001b[0m\u001b[1;33m(\u001b[0m\u001b[0mtree_accuracy\u001b[0m\u001b[1;33m)\u001b[0m\u001b[1;33m)\u001b[0m\u001b[1;33m\u001b[0m\u001b[1;33m\u001b[0m\u001b[0m\n\u001b[1;32m----> 7\u001b[1;33m \u001b[1;32mraise\u001b[0m \u001b[0mIndexError\u001b[0m\u001b[1;33m\u001b[0m\u001b[1;33m\u001b[0m\u001b[0m\n\u001b[0m\u001b[0;32m      8\u001b[0m \u001b[0mfn\u001b[0m\u001b[1;33m=\u001b[0m\u001b[0mdf\u001b[0m\u001b[1;33m.\u001b[0m\u001b[0mcolumns\u001b[0m\u001b[1;33m.\u001b[0m\u001b[0mtolist\u001b[0m\u001b[1;33m(\u001b[0m\u001b[1;33m)\u001b[0m\u001b[1;33m\u001b[0m\u001b[1;33m\u001b[0m\u001b[0m\n\u001b[0;32m      9\u001b[0m \u001b[0mcn\u001b[0m\u001b[1;33m=\u001b[0m\u001b[1;33m[\u001b[0m\u001b[1;34m'Normal'\u001b[0m\u001b[1;33m,\u001b[0m \u001b[1;34m'Disease'\u001b[0m\u001b[1;33m]\u001b[0m\u001b[1;33m\u001b[0m\u001b[1;33m\u001b[0m\u001b[0m\n",
      "\u001b[1;31mIndexError\u001b[0m: "
     ]
    }
   ],
   "source": [
    "from sklearn import tree\n",
    "\n",
    "tree_accuracy=[]\n",
    "for tree_nr in range(0,100):\n",
    "    tree_accuracy.append(skm.accuracy_score(train[1], rf.estimators_[tree_nr].predict(train[0])))\n",
    "best_tree = tree_accuracy.index(max(tree_accuracy))\n",
    "raise IndexError\n",
    "fn=df.columns.tolist()\n",
    "cn=['Normal', 'Disease']\n",
    "fig = plt.figure(figsize=(30,40), dpi=800)\n",
    "_ = tree.plot_tree(rf.estimators_[best_tree],\n",
    "               feature_names = fn, \n",
    "               class_names=cn,\n",
    "               filled = True);\n",
    "fig.savefig('rf_individualtree.png')"
   ]
  },
  {
   "cell_type": "code",
   "execution_count": 27,
   "metadata": {
    "scrolled": false
   },
   "outputs": [
    {
     "name": "stdout",
     "output_type": "stream",
     "text": [
      "config: rbf auto\n",
      "[[395  37]\n",
      " [ 25 343]]\n",
      "[[43  7]\n",
      " [ 7 43]]\n",
      "0.86\n",
      "0.9225\n",
      "\n",
      "\n",
      "\n",
      "\n",
      "config: rbf scale\n",
      "[[301 131]\n",
      " [ 86 282]]\n",
      "[[39 11]\n",
      " [ 8 42]]\n",
      "0.81\n",
      "0.72875\n",
      "\n",
      "\n",
      "\n",
      "\n",
      "config: sigmoid auto\n",
      "[[432   0]\n",
      " [368   0]]\n",
      "[[50  0]\n",
      " [50  0]]\n",
      "0.5\n",
      "0.54\n",
      "\n",
      "\n",
      "\n",
      "\n",
      "config: sigmoid scale\n",
      "[[170 262]\n",
      " [246 122]]\n",
      "[[20 30]\n",
      " [28 22]]\n",
      "0.42\n",
      "0.365\n",
      "\n",
      "\n",
      "\n",
      "\n",
      "config: poly auto\n",
      "[[372  60]\n",
      " [ 68 300]]\n",
      "[[40 10]\n",
      " [10 40]]\n",
      "0.8\n",
      "0.84\n",
      "\n",
      "\n",
      "\n",
      "\n",
      "config: poly scale\n",
      "[[372  60]\n",
      " [115 253]]\n",
      "[[45  5]\n",
      " [13 37]]\n",
      "0.82\n",
      "0.78125\n",
      "\n",
      "\n",
      "\n",
      "\n",
      "config: linear auto\n",
      "[[365  67]\n",
      " [ 56 312]]\n",
      "[[39 11]\n",
      " [ 8 42]]\n",
      "0.81\n",
      "0.84625\n",
      "\n",
      "\n",
      "\n",
      "\n"
     ]
    },
    {
     "ename": "ValueError",
     "evalue": "Precomputed matrix must be a square matrix. Input is a 800x11 matrix.",
     "output_type": "error",
     "traceback": [
      "\u001b[1;31m---------------------------------------------------------------------------\u001b[0m",
      "\u001b[1;31mValueError\u001b[0m                                Traceback (most recent call last)",
      "\u001b[1;32m<ipython-input-27-1831eb195cc9>\u001b[0m in \u001b[0;36m<module>\u001b[1;34m\u001b[0m\n\u001b[0;32m      4\u001b[0m     \u001b[1;32mfor\u001b[0m \u001b[0mj\u001b[0m \u001b[1;32min\u001b[0m \u001b[1;33m[\u001b[0m\u001b[1;34m'auto'\u001b[0m\u001b[1;33m,\u001b[0m \u001b[1;34m'scale'\u001b[0m\u001b[1;33m]\u001b[0m\u001b[1;33m:\u001b[0m\u001b[1;33m\u001b[0m\u001b[1;33m\u001b[0m\u001b[0m\n\u001b[0;32m      5\u001b[0m         \u001b[0msvm\u001b[0m \u001b[1;33m=\u001b[0m \u001b[0msks\u001b[0m\u001b[1;33m.\u001b[0m\u001b[0mSVC\u001b[0m\u001b[1;33m(\u001b[0m\u001b[0mkernel\u001b[0m\u001b[1;33m=\u001b[0m\u001b[0mi\u001b[0m\u001b[1;33m,\u001b[0m \u001b[0mgamma\u001b[0m\u001b[1;33m=\u001b[0m\u001b[0mj\u001b[0m\u001b[1;33m,\u001b[0m \u001b[0mclass_weight\u001b[0m\u001b[1;33m=\u001b[0m\u001b[1;34m'balanced'\u001b[0m\u001b[1;33m,\u001b[0m \u001b[0mrandom_state\u001b[0m\u001b[1;33m=\u001b[0m\u001b[1;36m42\u001b[0m\u001b[1;33m)\u001b[0m\u001b[1;33m\u001b[0m\u001b[1;33m\u001b[0m\u001b[0m\n\u001b[1;32m----> 6\u001b[1;33m         \u001b[0msvm\u001b[0m\u001b[1;33m.\u001b[0m\u001b[0mfit\u001b[0m\u001b[1;33m(\u001b[0m\u001b[0mtrain\u001b[0m\u001b[1;33m[\u001b[0m\u001b[1;36m0\u001b[0m\u001b[1;33m]\u001b[0m\u001b[1;33m,\u001b[0m \u001b[0mtrain\u001b[0m\u001b[1;33m[\u001b[0m\u001b[1;36m1\u001b[0m\u001b[1;33m]\u001b[0m\u001b[1;33m)\u001b[0m\u001b[1;33m\u001b[0m\u001b[1;33m\u001b[0m\u001b[0m\n\u001b[0m\u001b[0;32m      7\u001b[0m \u001b[1;33m\u001b[0m\u001b[0m\n\u001b[0;32m      8\u001b[0m         \u001b[0mtrain_pred\u001b[0m \u001b[1;33m=\u001b[0m \u001b[0msvm\u001b[0m\u001b[1;33m.\u001b[0m\u001b[0mpredict\u001b[0m\u001b[1;33m(\u001b[0m\u001b[0mtrain\u001b[0m\u001b[1;33m[\u001b[0m\u001b[1;36m0\u001b[0m\u001b[1;33m]\u001b[0m\u001b[1;33m)\u001b[0m\u001b[1;33m\u001b[0m\u001b[1;33m\u001b[0m\u001b[0m\n",
      "\u001b[1;32m~\\anaconda3\\lib\\site-packages\\sklearn\\svm\\_base.py\u001b[0m in \u001b[0;36mfit\u001b[1;34m(self, X, y, sample_weight)\u001b[0m\n\u001b[0;32m    177\u001b[0m \u001b[1;33m\u001b[0m\u001b[0m\n\u001b[0;32m    178\u001b[0m         \u001b[1;32mif\u001b[0m \u001b[0mself\u001b[0m\u001b[1;33m.\u001b[0m\u001b[0mkernel\u001b[0m \u001b[1;33m==\u001b[0m \u001b[1;34m\"precomputed\"\u001b[0m \u001b[1;32mand\u001b[0m \u001b[0mn_samples\u001b[0m \u001b[1;33m!=\u001b[0m \u001b[0mX\u001b[0m\u001b[1;33m.\u001b[0m\u001b[0mshape\u001b[0m\u001b[1;33m[\u001b[0m\u001b[1;36m1\u001b[0m\u001b[1;33m]\u001b[0m\u001b[1;33m:\u001b[0m\u001b[1;33m\u001b[0m\u001b[1;33m\u001b[0m\u001b[0m\n\u001b[1;32m--> 179\u001b[1;33m             raise ValueError(\"Precomputed matrix must be a square matrix.\"\n\u001b[0m\u001b[0;32m    180\u001b[0m                              \u001b[1;34m\" Input is a {}x{} matrix.\"\u001b[0m\u001b[1;33m\u001b[0m\u001b[1;33m\u001b[0m\u001b[0m\n\u001b[0;32m    181\u001b[0m                              .format(X.shape[0], X.shape[1]))\n",
      "\u001b[1;31mValueError\u001b[0m: Precomputed matrix must be a square matrix. Input is a 800x11 matrix."
     ]
    }
   ],
   "source": [
    "from sklearn import svm as sks\n",
    "\n",
    "for i in ['rbf', 'sigmoid', 'poly']:\n",
    "    for j in ['auto', 'scale']:\n",
    "        svm = sks.SVC(kernel=i, gamma=j, class_weight='balanced', random_state=42)\n",
    "        svm.fit(train[0], train[1])\n",
    "\n",
    "        train_pred = svm.predict(train[0])\n",
    "        test_pred = svm.predict(test[0])\n",
    "        \n",
    "        print('config:',i,j)\n",
    "        \n",
    "        print(skm.confusion_matrix(train[1], train_pred))\n",
    "        print(skm.confusion_matrix(test[1], test_pred))\n",
    "\n",
    "        print(svm.score(test[0], test[1]))\n",
    "        print(svm.score(train[0], train[1]))\n",
    "        \n",
    "        print('\\n\\n\\n')\n",
    "        \n",
    "        if i in ['linear', 'precomputed']:break"
   ]
  },
  {
   "cell_type": "code",
   "execution_count": 28,
   "metadata": {},
   "outputs": [
    {
     "name": "stdout",
     "output_type": "stream",
     "text": [
      "[[365  67]\n",
      " [ 56 312]]\n",
      "[[39 11]\n",
      " [ 8 42]]\n",
      "0.86\n",
      "0.9225\n"
     ]
    }
   ],
   "source": [
    "svm = sks.SVC(kernel='rbf', gamma='auto', class_weight='balanced', random_state=42)\n",
    "svm.fit(train[0], train[1])\n",
    "\n",
    "print(skm.confusion_matrix(train[1], train_pred))\n",
    "print(skm.confusion_matrix(test[1], test_pred))\n",
    "\n",
    "print(svm.score(test[0], test[1]))\n",
    "print(svm.score(train[0], train[1]))"
   ]
  },
  {
   "cell_type": "code",
   "execution_count": null,
   "metadata": {},
   "outputs": [],
   "source": []
  }
 ],
 "metadata": {
  "kernelspec": {
   "display_name": "Python 3",
   "language": "python",
   "name": "python3"
  },
  "language_info": {
   "codemirror_mode": {
    "name": "ipython",
    "version": 3
   },
   "file_extension": ".py",
   "mimetype": "text/x-python",
   "name": "python",
   "nbconvert_exporter": "python",
   "pygments_lexer": "ipython3",
   "version": "3.8.3"
  }
 },
 "nbformat": 4,
 "nbformat_minor": 4
}
